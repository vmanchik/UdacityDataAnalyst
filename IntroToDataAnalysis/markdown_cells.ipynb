{
 "cells": [
  {
   "cell_type": "markdown",
   "id": "f95bb9ce",
   "metadata": {},
   "source": [
    "## Introduction to Markdown cells\n",
    "\n",
    "Explore the notebook below to learn about Markdown. Double click on the cell to open and edit it. Click the RUN button or use SHIFT+ENTER to render what you wrote!"
   ]
  },
  {
   "cell_type": "markdown",
   "id": "d526a4ef",
   "metadata": {},
   "source": [
    "# This is a header\n",
    "## Writing Markdown\n",
    "\n",
    "This is a [link to the Markdown documentation.](https://daringfireball.net/projects/markdown/)\n",
    "\n",
    "You can emphasize text with *italics* or **boldness**. So __bold__.\n",
    "\n",
    "Writing code is easy here too with backticks: `import gravity`.\n",
    "\n",
    "    import gravity\n",
    "    code = block\n",
    "    \n",
    "And write $\\LaTeX$ (LaTeX) too. How about some inline math $y = mx + b$, and a math block\n",
    "\n",
    "$$\n",
    "e^x = \\sum_{n=0}^{\\infty}\\frac{x^n}{x!}\n",
    "$$"
   ]
  },
  {
   "cell_type": "markdown",
   "id": "73530fcc",
   "metadata": {},
   "source": [
    "## Here is an image\n",
    "![digital illustration of a fluffy orange kitten](files/cat.jpeg)"
   ]
  },
  {
   "cell_type": "code",
   "execution_count": null,
   "id": "7ecc69bf",
   "metadata": {},
   "outputs": [],
   "source": []
  }
 ],
 "metadata": {
  "kernelspec": {
   "display_name": "Python 3 (ipykernel)",
   "language": "python",
   "name": "python3"
  },
  "language_info": {
   "codemirror_mode": {
    "name": "ipython",
    "version": 3
   },
   "file_extension": ".py",
   "mimetype": "text/x-python",
   "name": "python",
   "nbconvert_exporter": "python",
   "pygments_lexer": "ipython3",
   "version": "3.10.10"
  }
 },
 "nbformat": 4,
 "nbformat_minor": 5
}
