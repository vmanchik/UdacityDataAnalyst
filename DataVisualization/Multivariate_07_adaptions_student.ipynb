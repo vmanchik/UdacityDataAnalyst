{
 "cells": [
  {
   "cell_type": "markdown",
   "metadata": {},
   "source": [
    "# L7 Other Adaptations of Bivariate Plots"
   ]
  },
  {
   "cell_type": "code",
   "execution_count": null,
   "metadata": {},
   "outputs": [],
   "source": [
    "import numpy as np\n",
    "import pandas as pd\n",
    "\n",
    "import matplotlib.pyplot as plt\n",
    "import seaborn as sns"
   ]
  },
  {
   "cell_type": "markdown",
   "metadata": {},
   "source": [
    "In this lesson we are going to expand how to add color to bivariate plots using Seaborn's `hue` parameter. We're going to start with our normal imports, and reading in our data."
   ]
  },
  {
   "cell_type": "code",
   "execution_count": null,
   "metadata": {},
   "outputs": [],
   "source": [
    "# load dataset\n",
    "df = pd.read_csv('../data/fuel-econ.csv')\n",
    "\n",
    "# create transmission type column\n",
    "df['trans_type'] = df['trans'].apply(lambda x:x.split()[0])"
   ]
  },
  {
   "cell_type": "markdown",
   "metadata": {},
   "source": [
    "To add color to most Seaborn plots, we can just add the name of a column in the `hue` parameter."
   ]
  },
  {
   "cell_type": "code",
   "execution_count": null,
   "metadata": {},
   "outputs": [],
   "source": [
    "sns.pointplot(data=df, x='VClass', y='comb', \n",
    "             hue='trans_type', errorbar='sd',\n",
    "             linestyles=\"\", dodge=True);\n",
    "plt.xticks(rotation = 15)\n",
    "plt.ylabel('Avg. Combined Fuel Efficiency (mpg)');"
   ]
  },
  {
   "cell_type": "markdown",
   "metadata": {},
   "source": [
    "We can also create a multivariate clustered bar plot with `hue` as well."
   ]
  },
  {
   "cell_type": "code",
   "execution_count": null,
   "metadata": {
    "scrolled": false
   },
   "outputs": [],
   "source": [
    "# Clustered Bar Plot of Fuel Efficiency by Vehicle Class and Transmission Type\n",
    "sns.barplot(data=df, x='VClass', y='comb', hue='trans_type',\n",
    "            errorbar='sd');\n",
    "plt.xticks(rotation = 15)\n",
    "plt.ylabel('Avg. Combined Fuel Efficiency (mpg)');"
   ]
  },
  {
   "cell_type": "markdown",
   "metadata": {},
   "source": [
    "Similarly, we can create a similar comparison using the boxplot function to create a \"clustered box chart.\""
   ]
  },
  {
   "cell_type": "code",
   "execution_count": null,
   "metadata": {},
   "outputs": [],
   "source": [
    "sns.boxplot(data=df, x='VClass', y='comb', hue='trans_type');\n",
    "plt.xticks(rotation = 15)\n",
    "plt.ylabel('Avg. Combined Fuel Efficiency (mpg)')"
   ]
  },
  {
   "cell_type": "markdown",
   "metadata": {},
   "source": [
    "## Adaptation of Heat maps (2d histograms)"
   ]
  },
  {
   "cell_type": "markdown",
   "metadata": {},
   "source": [
    "We can also adapt heat maps (i.e., 2d histograms) , so that instead of color being based on count, color is based on the mean of a third variable.\n",
    "\n",
    "Let's start by simply plotting a 2d histogram of combined efficiency vs. engine displacement, with color being the total number of counts."
   ]
  },
  {
   "cell_type": "code",
   "execution_count": null,
   "metadata": {},
   "outputs": [],
   "source": [
    "# Multivariate Heatmap\n",
    "bins_x = np.arange(0.6, 7+0.3, 0.3)\n",
    "bins_y = np.arange(12, 58+3, 3)\n",
    "\n",
    "# Plot the heatmap\n",
    "plt.hist2d(data=df, x='displ', y='comb', cmin=0.5, \n",
    "          cmap='viridis_r', bins=[bins_x, bins_y]);\n",
    "plt.xlabel('Displacement (1)')\n",
    "plt.ylabel('Combined Fuel Eff. (mpg)');\n",
    "plt.colorbar(label='Number of counts');"
   ]
  },
  {
   "cell_type": "markdown",
   "metadata": {},
   "source": [
    "Let's now change this heat map of fuel efficiency against engine size, so that average CO2 output is plotted instead. There is a weights parameter hist2d that sets how much each data point is worth in the aggregation.\n",
    "\n",
    "\n",
    "Our first step is to figure out in which bin each point falls. We compute this using the pandas cut function."
   ]
  },
  {
   "cell_type": "code",
   "execution_count": null,
   "metadata": {},
   "outputs": [],
   "source": [
    "# Determine which bin for each point\n",
    "displ_bins = pd.cut(df['displ'], bins_x, right=False, \n",
    "                    include_lowest=False, labels=False).astype(int)\n",
    "comb_bins = pd.cut(df['comb'], bins_y, right=False, \n",
    "                    include_lowest=False, labels=False).astype(int)"
   ]
  },
  {
   "cell_type": "markdown",
   "metadata": {},
   "source": [
    "Next, we count up the number of points that fall in each bin. This is done using the groupby and size functions."
   ]
  },
  {
   "cell_type": "code",
   "execution_count": null,
   "metadata": {},
   "outputs": [],
   "source": [
    "# Count the points in each bin\n",
    "n_points = df.groupby([displ_bins, comb_bins]).size()\n",
    "n_points = n_points.reset_index().pivot(index = 'displ', columns = 'comb').values\n"
   ]
  },
  {
   "cell_type": "markdown",
   "metadata": {},
   "source": [
    "Finally, we use the values attribute to get the number of points as an array. Now, we can get our point weights using all of these values."
   ]
  },
  {
   "cell_type": "code",
   "execution_count": null,
   "metadata": {},
   "outputs": [],
   "source": [
    "# Divide CO2 by the number of points in each bin\n",
    "co2_weights = df['co2'] / n_points[displ_bins, comb_bins]\n",
    "\n",
    "# Plot the heatmap\n",
    "plt.hist2d(data= df, x='displ', y='comb', cmin=0.5, \n",
    "          cmap='viridis_r', bins=[bins_x, bins_y], weights=co2_weights);\n",
    "plt.xlabel('Displacement (1)')\n",
    "plt.ylabel('Combined Fuel Eff. (mpg)');\n",
    "plt.colorbar(label = 'CO2 (g/mi)');"
   ]
  },
  {
   "cell_type": "code",
   "execution_count": null,
   "metadata": {},
   "outputs": [],
   "source": []
  },
  {
   "cell_type": "code",
   "execution_count": null,
   "metadata": {},
   "outputs": [],
   "source": []
  },
  {
   "cell_type": "code",
   "execution_count": null,
   "metadata": {},
   "outputs": [],
   "source": []
  }
 ],
 "metadata": {
  "kernelspec": {
   "display_name": "Python 3 (ipykernel)",
   "language": "python",
   "name": "python3"
  },
  "language_info": {
   "codemirror_mode": {
    "name": "ipython",
    "version": 3
   },
   "file_extension": ".py",
   "mimetype": "text/x-python",
   "name": "python",
   "nbconvert_exporter": "python",
   "pygments_lexer": "ipython3",
   "version": "3.10.10"
  }
 },
 "nbformat": 4,
 "nbformat_minor": 4
}
