{
 "cells": [
  {
   "cell_type": "markdown",
   "metadata": {},
   "source": [
    "# L4 Color Palettes"
   ]
  },
  {
   "cell_type": "code",
   "execution_count": null,
   "metadata": {},
   "outputs": [],
   "source": [
    "import numpy as np\n",
    "import pandas as pd\n",
    "\n",
    "import matplotlib.pyplot as plt\n",
    "import seaborn as sns"
   ]
  },
  {
   "cell_type": "markdown",
   "metadata": {},
   "source": [
    "Color is a natural encoding regime for additional variables, and is supported by both Matplot and Seaborn."
   ]
  },
  {
   "cell_type": "code",
   "execution_count": null,
   "metadata": {},
   "outputs": [],
   "source": [
    "# load dataset\n",
    "df = pd.read_csv('../data/fuel-econ.csv')\n",
    "\n",
    "# create transmission type column\n",
    "df['trans_type'] = df['trans'].apply(lambda x:x.split()[0])\n",
    "\n",
    "# randomly sample data frame\n",
    "np.random.seed(42)\n",
    "sample = np.random.choice(df.shape[0], 200, replace = False)\n",
    "df_subset = df.loc[sample]"
   ]
  },
  {
   "cell_type": "code",
   "execution_count": null,
   "metadata": {},
   "outputs": [],
   "source": [
    "df_subset.shape"
   ]
  },
  {
   "cell_type": "markdown",
   "metadata": {},
   "source": [
    "## The seaborn `hue` parameter"
   ]
  },
  {
   "cell_type": "markdown",
   "metadata": {},
   "source": [
    "We can add color to Seaborn plots several ways. In this lesson, we will use FacetGrid, where we set `hue`.\n",
    "\n",
    "Remember that in the `sns.map` method, we set the plotting function function and axes variables."
   ]
  },
  {
   "cell_type": "code",
   "execution_count": null,
   "metadata": {},
   "outputs": [],
   "source": [
    "g = sns.FacetGrid(data=df_subset, hue='trans_type',\n",
    "                hue_order=['Automatic', 'Manual'], aspect=1.5)\n",
    "g.map(sns.regplot,'displ','comb', fit_reg=False);\n",
    "g.add_legend()\n",
    "plt.xlabel('Displacement(1)')\n",
    "plt.ylabel('Combine Fuel Eff. (mpg)');"
   ]
  },
  {
   "cell_type": "markdown",
   "metadata": {},
   "source": [
    "## Setting a color palette"
   ]
  },
  {
   "cell_type": "markdown",
   "metadata": {},
   "source": [
    "Now let's look at vehicle class instead. Vehicle class is an ordered variable, so we use a sequential palette instead (viridis_r).\n",
    "\n",
    "This palette not only goes from light to dark, but it also has a good range of intermediate hues."
   ]
  },
  {
   "cell_type": "code",
   "execution_count": null,
   "metadata": {},
   "outputs": [],
   "source": [
    "g = sns.FacetGrid(data=df_subset, hue='VClass',\n",
    "               aspect=1.5, palette='viridis_r')\n",
    "g.map(sns.regplot,'displ','comb', fit_reg=False);\n",
    "g.add_legend()\n",
    "plt.xlabel('Displacement(1)')\n",
    "plt.ylabel('Combine Fuel Eff. (mpg)');"
   ]
  },
  {
   "cell_type": "markdown",
   "metadata": {},
   "source": [
    "CO2 emissions is a numeric variable, so we shouldn't set it to the `hue` parameter. If we do that, we'll get a messy legend with one color for every unique CO2 value in a rank ordered color scheme.\n",
    "\n",
    "Instead, just use the basic Matplotlib scatter function to create our plot. We also add a colorbar to provide a sense of scale."
   ]
  },
  {
   "cell_type": "code",
   "execution_count": null,
   "metadata": {},
   "outputs": [],
   "source": [
    "plt.scatter(data=df_subset, x='displ', y='comb', c='co2',\n",
    "            cmap='viridis_r')\n",
    "plt.colorbar(label='CO2 (g/mi)')\n",
    "plt.xlabel('Displacement(1)')\n",
    "plt.ylabel('Combine Fuel Eff. (mpg)');"
   ]
  },
  {
   "cell_type": "code",
   "execution_count": null,
   "metadata": {},
   "outputs": [],
   "source": []
  },
  {
   "cell_type": "code",
   "execution_count": null,
   "metadata": {},
   "outputs": [],
   "source": []
  },
  {
   "cell_type": "code",
   "execution_count": null,
   "metadata": {},
   "outputs": [],
   "source": []
  }
 ],
 "metadata": {
  "kernelspec": {
   "display_name": "Python 3 (ipykernel)",
   "language": "python",
   "name": "python3"
  },
  "language_info": {
   "codemirror_mode": {
    "name": "ipython",
    "version": 3
   },
   "file_extension": ".py",
   "mimetype": "text/x-python",
   "name": "python",
   "nbconvert_exporter": "python",
   "pygments_lexer": "ipython3",
   "version": "3.10.10"
  }
 },
 "nbformat": 4,
 "nbformat_minor": 4
}
