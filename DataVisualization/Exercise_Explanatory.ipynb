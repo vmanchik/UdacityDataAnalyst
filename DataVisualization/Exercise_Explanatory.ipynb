{
 "cells": [
  {
   "cell_type": "markdown",
   "metadata": {},
   "source": [
    "# Explantory Visualizations Exercise"
   ]
  },
  {
   "cell_type": "markdown",
   "metadata": {},
   "source": [
    "In this notebook, your goal will be to practice polishing plots. There will be one exercise with a bivariate plot. There is quite a bit of data manipulation shown; you will just be responsible for the plot polishing!"
   ]
  },
  {
   "cell_type": "code",
   "execution_count": null,
   "metadata": {},
   "outputs": [],
   "source": [
    "# prerequisite package imports\n",
    "import numpy as np\n",
    "import pandas as pd\n",
    "\n",
    "import matplotlib.pyplot as plt\n",
    "import seaborn as sns\n",
    "\n",
    "# The `solutions_explanatory.py` is a Python file available in the Notebook server that contains solution to the TO DO tasks.\n",
    "# The solution to each task is present in a separate function in the `solutions_univ.py` file. \n",
    "# Do not refer to the file untill you attempt to write code yourself. \n",
    "from solutions_explanatory import *"
   ]
  },
  {
   "cell_type": "markdown",
   "metadata": {},
   "source": [
    "We're going to start with the Diamonds data set you are familiar with."
   ]
  },
  {
   "cell_type": "code",
   "execution_count": null,
   "metadata": {},
   "outputs": [],
   "source": [
    "df = pd.read_csv('data/diamonds.csv')\n",
    "df.shape"
   ]
  },
  {
   "cell_type": "code",
   "execution_count": null,
   "metadata": {},
   "outputs": [],
   "source": [
    "df.head(5)"
   ]
  },
  {
   "cell_type": "markdown",
   "metadata": {},
   "source": [
    "### Question and Data Maniupulation\n",
    "\n",
    "Here we want to answer the question \"how does the _average_ cost of diamonds for a given carat size change for diamonds of different quality?\" Specifically, we want to use a scatterplot to see trends as diamonds grow, and compare `Ideal` diamonds versus `Fair` (i.e., the highest and lowest quality diamonds in our data set).\n",
    "\n",
    "To start, I am going to do some data manipulation to prepare for plotting:\n",
    "1. Extract only the diamonds of quality grade of interest.\n",
    "1. We will define bins of carat size of 1/4 carat.\n",
    "1. Use pandas.cut() to put each diamond into the correct bin.\n",
    "1. For each bin, we will calculate the average size and standard deviation."
   ]
  },
  {
   "cell_type": "code",
   "execution_count": null,
   "metadata": {},
   "outputs": [],
   "source": [
    "# only look at data with Ideal or Fair quality grades\n",
    "df_subset = df[df['cut'].isin(['Ideal', 'Fair'])].reset_index(drop=True)\n",
    "print(f'Original dataframe shape: {df.shape}')\n",
    "print(f'Subset dataframe shape: {df_subset.shape}')"
   ]
  },
  {
   "cell_type": "code",
   "execution_count": null,
   "metadata": {},
   "outputs": [],
   "source": [
    "# define xbins\n",
    "step = 0.25\n",
    "xbins = np.arange(0, df['carat'].max()+step, step)\n",
    "\n",
    "# the bin label is the middle value of the bin\n",
    "labels = [lower+step/2 for lower in xbins[:-1]]"
   ]
  },
  {
   "cell_type": "code",
   "execution_count": null,
   "metadata": {},
   "outputs": [],
   "source": [
    "# bin data using pd.cut\n",
    "df_subset['carat_avg'] = pd.cut(df_subset['carat'],\n",
    "                                   bins=xbins,\n",
    "                                   include_lowest=True,\n",
    "                                   labels=labels)\n",
    "\n",
    "# pd.cut() returns categorical data, so let's make sure they are floats\n",
    "df_subset['carat_avg'] = df_subset['carat_avg'].astype(float)"
   ]
  },
  {
   "cell_type": "code",
   "execution_count": null,
   "metadata": {
    "scrolled": false
   },
   "outputs": [],
   "source": [
    "# let's do a group by bin and diamond cut\n",
    "dgroup = df_subset.groupby(by=['carat_avg', 'cut'], as_index=False).agg(\n",
    "    price_avg=('price', np.mean)\n",
    ")"
   ]
  },
  {
   "cell_type": "code",
   "execution_count": null,
   "metadata": {
    "scrolled": true
   },
   "outputs": [],
   "source": [
    "# display grouped data frame\n",
    "dgroup"
   ]
  },
  {
   "cell_type": "markdown",
   "metadata": {},
   "source": [
    "After all that manipulation, now we are ready to plot the average price and standard deviation for a given carat size and quality grade."
   ]
  },
  {
   "cell_type": "code",
   "execution_count": null,
   "metadata": {},
   "outputs": [],
   "source": [
    "sns.scatterplot(data=dgroup, x='carat_avg', y='price_avg', hue='cut');"
   ]
  },
  {
   "cell_type": "markdown",
   "metadata": {},
   "source": [
    "### Polishing Exercise\n",
    "\n",
    "Now it's time to take this plot and add some polish! Besides relabeling the axes, you may consider performing transformations as well!"
   ]
  },
  {
   "cell_type": "code",
   "execution_count": null,
   "metadata": {},
   "outputs": [],
   "source": [
    "# YOUR CODE HERE"
   ]
  },
  {
   "cell_type": "code",
   "execution_count": null,
   "metadata": {},
   "outputs": [],
   "source": []
  },
  {
   "cell_type": "markdown",
   "metadata": {},
   "source": [
    "### Solution\n",
    "\n",
    "When you 've given the exercise a try, run the following code to see what I came up with."
   ]
  },
  {
   "cell_type": "code",
   "execution_count": null,
   "metadata": {},
   "outputs": [],
   "source": [
    "explanatory_solution()"
   ]
  },
  {
   "cell_type": "code",
   "execution_count": null,
   "metadata": {},
   "outputs": [],
   "source": []
  }
 ],
 "metadata": {
  "kernelspec": {
   "display_name": "Python 3 (ipykernel)",
   "language": "python",
   "name": "python3"
  },
  "language_info": {
   "codemirror_mode": {
    "name": "ipython",
    "version": 3
   },
   "file_extension": ".py",
   "mimetype": "text/x-python",
   "name": "python",
   "nbconvert_exporter": "python",
   "pygments_lexer": "ipython3",
   "version": "3.10.10"
  }
 },
 "nbformat": 4,
 "nbformat_minor": 4
}
