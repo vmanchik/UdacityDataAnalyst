{
 "cells": [
  {
   "cell_type": "code",
   "execution_count": null,
   "metadata": {},
   "outputs": [],
   "source": [
    "# prerequisite package imports\n",
    "import numpy as np\n",
    "import pandas as pd\n",
    "import matplotlib.pyplot as plt\n",
    "import seaborn as sb\n",
    "\n",
    "%matplotlib inline\n",
    "\n",
    "from solutions_explain import polishing_solution_1"
   ]
  },
  {
   "cell_type": "markdown",
   "metadata": {},
   "source": [
    "In this workspace, you'll perform some polishing and cleanup of a plot created using the Pokémon creature dataset."
   ]
  },
  {
   "cell_type": "code",
   "execution_count": null,
   "metadata": {},
   "outputs": [],
   "source": [
    "pokemon = pd.read_csv('./data/pokemon.csv')\n",
    "pokemon.head()"
   ]
  },
  {
   "cell_type": "markdown",
   "metadata": {},
   "source": [
    "**Task**: Perform polishing and cleaning steps for the following multivariate plot, where the relationship between height and weight are depicted for the Fairy and Dragon Pokémon types. You'll need to do more than just add meaningful labels and titles to the plot. Pay attention to the interpretability of tick marks and the ability to associate each point to a type of Pokemon.\n",
    "\n",
    "For reference, height is in terms of meters and weight is in terms of kilograms. One other thing you might try is to change the colors mapped to each type to match those given by the game series. Fairy is depicted with a light pink (hex code #ee99ac) while Dragon is associated with a medium purple (hex code #7038f8). (Type colors taken from [Pokémon Wiki Bulbapedia](https://bulbapedia.bulbagarden.net/wiki/Category:Type_color_templates).)"
   ]
  },
  {
   "cell_type": "code",
   "execution_count": null,
   "metadata": {},
   "outputs": [],
   "source": [
    "# data processing: isolate only fairy and dragon type Pokemon\n",
    "type_cols = ['type_1','type_2']\n",
    "non_type_cols = pokemon.columns.difference(type_cols)\n",
    "pkmn_types = pokemon.melt(id_vars = non_type_cols, value_vars = type_cols, \n",
    "                          var_name = 'type_level', value_name = 'type').dropna()\n",
    "\n",
    "pokemon_sub = pkmn_types.loc[pkmn_types['type'].isin(['fairy','dragon'])]"
   ]
  },
  {
   "cell_type": "code",
   "execution_count": null,
   "metadata": {},
   "outputs": [],
   "source": [
    "# MODIFY THIS CODE\n",
    "g = sb.FacetGrid(data = pokemon_sub, hue = 'type')\n",
    "g.map(plt.scatter, 'weight','height')\n",
    "g.set(xscale = 'log')"
   ]
  },
  {
   "cell_type": "code",
   "execution_count": null,
   "metadata": {},
   "outputs": [],
   "source": [
    "# run this cell to check your work against ours\n",
    "polishing_solution_1()"
   ]
  },
  {
   "cell_type": "markdown",
   "metadata": {},
   "source": [
    "You can refer to the solution below"
   ]
  },
  {
   "cell_type": "code",
   "execution_count": 2,
   "metadata": {},
   "outputs": [
    {
     "name": "stdout",
     "output_type": "stream",
     "text": [
      "\"\"\"\r\n",
      "Script with solutions for all workspace assignments in the Explanatory\r\n",
      "Visualizations lesson.\r\n",
      "\"\"\"\r\n",
      "\r\n",
      "import numpy as np\r\n",
      "import pandas as pd\r\n",
      "import matplotlib.pyplot as plt\r\n",
      "import seaborn as sb\r\n",
      "\r\n",
      "def polishing_solution_1():\r\n",
      "    \"\"\"\r\n",
      "    Solution for Question 1 in polishing plots practice: clean up and polish a\r\n",
      "    plot depicting the relationship between height and weight for two different\r\n",
      "    types of Pokemon.\r\n",
      "    \"\"\"\r\n",
      "    sol_string = [\"I created labels to the individual axes, including units of\",\r\n",
      "                  \"measurement. I also added a descriptive title for the plot.\",\r\n",
      "                  \"On the x-axis, I've changed the default tick marks to be\",\r\n",
      "                  \"plain numbers, using a 1-3-10 scheme. Finally, I've added a\",\r\n",
      "                  \"legend to the plot to associate each point to a Pokemon type.\",\r\n",
      "                  \"To set up the custom colors, I added a 'palette' argument to\",\r\n",
      "                  \"the FacetGrid call, pointing to a dictionary associating each\",\r\n",
      "                  \"type to a color. The legend was added using matplotlib, so\",\r\n",
      "                  \"that the Pokemon types could be capitalized.\"]\r\n",
      "    print((\" \").join(sol_string))\r\n",
      "\r\n",
      "    # data setup\r\n",
      "    pokemon = pd.read_csv('./data/pokemon.csv')\r\n",
      "\r\n",
      "    type_cols = ['type_1','type_2']\r\n",
      "    non_type_cols = pokemon.columns.difference(type_cols)\r\n",
      "    pkmn_types = pokemon.melt(id_vars = non_type_cols, value_vars = type_cols,\r\n",
      "                              var_name = 'type_level', value_name = 'type').dropna()\r\n",
      "    pokemon_sub = pkmn_types.loc[pkmn_types['type'].isin(['fairy','dragon'])]\r\n",
      "\r\n",
      "    # set up a dictionary to map types to colors\r\n",
      "    type_colors = {'fairy': '#ee99ac', 'dragon': '#7038f8'}\r\n",
      "\r\n",
      "    # plotting\r\n",
      "    g = sb.FacetGrid(data = pokemon_sub, hue = 'type', palette = type_colors)\r\n",
      "    g.map(plt.scatter, 'weight','height')\r\n",
      "    g.set(xscale = 'log') # need to set scaling before customizing ticks\r\n",
      "    x_ticks = [0.1, 0.3, 1, 3, 10, 30, 100, 300, 1000]\r\n",
      "    g.set(xticks = x_ticks, xticklabels = x_ticks)\r\n",
      "\r\n",
      "    # add labels and titles\r\n",
      "    g.set_xlabels('Weight (kg)')\r\n",
      "    g.set_ylabels('Height (m)')\r\n",
      "    plt.title('Heights and Weights for Fairy- and Dragon-type Pokemon')\r\n",
      "    plt.legend(['Fairy', 'Dragon'], title = 'Pokemon Type')\r\n"
     ]
    }
   ],
   "source": [
    "!cat solutions_explain.py"
   ]
  }
 ],
 "metadata": {
  "kernelspec": {
   "display_name": "Python 3 (ipykernel)",
   "language": "python",
   "name": "python3"
  },
  "language_info": {
   "codemirror_mode": {
    "name": "ipython",
    "version": 3
   },
   "file_extension": ".py",
   "mimetype": "text/x-python",
   "name": "python",
   "nbconvert_exporter": "python",
   "pygments_lexer": "ipython3",
   "version": "3.10.10"
  }
 },
 "nbformat": 4,
 "nbformat_minor": 2
}
