{
 "cells": [
  {
   "cell_type": "markdown",
   "metadata": {},
   "source": [
    "# 03 Non-Positional Encodings (Student)"
   ]
  },
  {
   "cell_type": "markdown",
   "metadata": {},
   "source": [
    "In this worksheet, I'm going to look at how to use shape or size to encode a third variable in scatter plots."
   ]
  },
  {
   "cell_type": "code",
   "execution_count": null,
   "metadata": {},
   "outputs": [],
   "source": [
    "import numpy as np\n",
    "import pandas as pd\n",
    "\n",
    "import matplotlib.pyplot as plt\n",
    "import seaborn as sns"
   ]
  },
  {
   "cell_type": "code",
   "execution_count": null,
   "metadata": {},
   "outputs": [],
   "source": [
    "# load dataset\n",
    "df = pd.read_csv('../data/fuel-econ.csv')\n",
    "\n",
    "# create transmission type column\n",
    "df['trans_type'] = df['trans'].apply(lambda x:x.split()[0])"
   ]
  },
  {
   "cell_type": "markdown",
   "metadata": {},
   "source": [
    "## Sampling our data"
   ]
  },
  {
   "cell_type": "markdown",
   "metadata": {},
   "source": [
    "We have too much data to plot, so let's start by taken a random subsample of data."
   ]
  },
  {
   "cell_type": "code",
   "execution_count": null,
   "metadata": {},
   "outputs": [],
   "source": [
    "# randomly sample data frame\n",
    "np.random.seed(42)\n",
    "sample = np.random.choice(df.shape[0], 200, replace = False)\n",
    "df_subset = df.loc[sample]"
   ]
  },
  {
   "cell_type": "code",
   "execution_count": null,
   "metadata": {},
   "outputs": [],
   "source": [
    "df_subset.shape"
   ]
  },
  {
   "cell_type": "markdown",
   "metadata": {},
   "source": [
    "## Encoding with markers"
   ]
  },
  {
   "cell_type": "markdown",
   "metadata": {},
   "source": [
    "When plotting with `regplot` and `scatter` functions, the `marker` parameter specifies the specific marker to use, but it only takes a string. We'll need a loop to plot multiple figures ontop of one another."
   ]
  },
  {
   "cell_type": "code",
   "execution_count": null,
   "metadata": {},
   "outputs": [],
   "source": [
    "sns.regplot(data=df_subset[df_subset['trans_type'] == 'Automatic'],\n",
    "            x='displ', y='comb', x_jitter=0.04, fit_reg=False,\n",
    "            marker='^');"
   ]
  },
  {
   "cell_type": "code",
   "execution_count": null,
   "metadata": {
    "scrolled": false
   },
   "outputs": [],
   "source": [
    "ttype_markers = [['Automatic', 'o'], \n",
    "                 ['Manual', '^']]\n",
    "\n",
    "for ttype, marker in ttype_markers:\n",
    "    plot_data = df_subset.loc[df_subset['trans_type'] == ttype]\n",
    "    sns.regplot(data=plot_data, x='displ', y='comb',\n",
    "                x_jitter=0.04, fit_reg=False, marker=marker);\n",
    "plt.xlabel('Displacement(1)')\n",
    "plt.ylabel('Combine Fuel Eff. (mpg)');\n",
    "plt.legend(['Automatic', 'Manual']);"
   ]
  },
  {
   "cell_type": "markdown",
   "metadata": {},
   "source": [
    "Note that because we sampled our data frame, your plot may look different than the one shown in the video, but the trends should be the same.\n",
    "\n",
    "For the legend we use Matplotlib's legend function. As an argument to the function, we give a list of labels to place on the legend, one for each regplot call."
   ]
  },
  {
   "cell_type": "markdown",
   "metadata": {},
   "source": [
    "## Encoding with marker size"
   ]
  },
  {
   "cell_type": "markdown",
   "metadata": {},
   "source": [
    "Now let's switch to carbon dioxide emissions as the third variable. Since CO2 is numeric, one encoding we could use is marker size. Higher CO2 emissions would mean a larger circle.\n",
    "\n",
    "In Matplotlib scatter function, we can set marker size with the S parameter, setting it to the name of the column we want to map it to, CO2. In regplot, we set the parameter as part of a dictionary on the scatter keywords parameter and explicitly assigned it the full series rather than just the column name."
   ]
  },
  {
   "cell_type": "code",
   "execution_count": null,
   "metadata": {},
   "outputs": [],
   "source": [
    "sns.regplot(data=df_subset, x='displ', y='comb', \n",
    "           x_jitter=0.04, fit_reg=False, scatter_kws={'s': df_subset['co2']/2},\n",
    "           label='co2');  # this label parameter is needed to display the legend here\n",
    "plt.xlabel('Displacement(1)')\n",
    "plt.ylabel('Combine Fuel Eff. (mpg)');\n",
    "plt.legend();"
   ]
  },
  {
   "cell_type": "markdown",
   "metadata": {},
   "source": [
    "As engine size increases, there is a higher level of CO2 emissions.\n",
    "\n",
    "We want to fix that legend, so let's loop over three CO2 values that we want to use for the size legend reference. Inside the loop, use the scatter function to create empty scatter plot objects, and set the necessary point sizes."
   ]
  },
  {
   "cell_type": "code",
   "execution_count": null,
   "metadata": {},
   "outputs": [],
   "source": [
    "sns.regplot(data=df_subset, x='displ', y='comb', \n",
    "           x_jitter=0.04, fit_reg=False, scatter_kws={'s': df_subset['co2']/2});\n",
    "plt.xlabel('Displacement(1)')\n",
    "plt.ylabel('Combine Fuel Eff. (mpg)');\n",
    "\n",
    "sizes = [200, 350, 500]\n",
    "legend_obj = []\n",
    "for s in sizes: \n",
    "    legend_obj.append(plt.scatter([], [], s=s/2, color='tab:blue'))\n",
    "plt.legend(legend_obj, sizes, title='CO2 (g/mi)');"
   ]
  },
  {
   "cell_type": "code",
   "execution_count": null,
   "metadata": {},
   "outputs": [],
   "source": []
  },
  {
   "cell_type": "code",
   "execution_count": null,
   "metadata": {},
   "outputs": [],
   "source": []
  },
  {
   "cell_type": "code",
   "execution_count": null,
   "metadata": {},
   "outputs": [],
   "source": []
  }
 ],
 "metadata": {
  "kernelspec": {
   "display_name": "Python 3 (ipykernel)",
   "language": "python",
   "name": "python3"
  },
  "language_info": {
   "codemirror_mode": {
    "name": "ipython",
    "version": 3
   },
   "file_extension": ".py",
   "mimetype": "text/x-python",
   "name": "python",
   "nbconvert_exporter": "python",
   "pygments_lexer": "ipython3",
   "version": "3.10.10"
  }
 },
 "nbformat": 4,
 "nbformat_minor": 4
}
