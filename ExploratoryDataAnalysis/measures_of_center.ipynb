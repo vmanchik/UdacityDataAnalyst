{
 "cells": [
  {
   "cell_type": "markdown",
   "id": "76ed1703-93db-45fc-8a74-5dfa77bb9a85",
   "metadata": {
    "tags": []
   },
   "source": [
    "# Measures of Center in Pandas and Numpy\n",
    "Measures of center are typically defined as mean (average), median, and mode. The goal is to find what the center of your data is. We can use `.mean()` and `.median()` on our DataFrame, Series, or Group to calculate these measurements.\n",
    "\n",
    "Explore this notebook using the `census_income_data.csv` dataset to answer questions from these methods. We'll utilize the groupby method again to facilitate our methodology."
   ]
  },
  {
   "cell_type": "code",
   "execution_count": 1,
   "id": "42870319-d79a-4fd7-834f-f3d871c6804b",
   "metadata": {
    "tags": []
   },
   "outputs": [],
   "source": [
    "import pandas as pd"
   ]
  },
  {
   "cell_type": "code",
   "execution_count": 2,
   "id": "f7a62f93-d747-4111-afbb-6a1c041e10dc",
   "metadata": {
    "tags": []
   },
   "outputs": [],
   "source": [
    "# Load the dataset\n",
    "df_census = pd.read_csv('census_income_data.csv')"
   ]
  },
  {
   "cell_type": "markdown",
   "id": "539d2ddc-37ef-4336-8324-e5af259fb962",
   "metadata": {},
   "source": [
    "## Using mean on a DataFrame"
   ]
  },
  {
   "cell_type": "markdown",
   "id": "aed41930-de05-4d04-ba7e-d4d25dce1cb3",
   "metadata": {},
   "source": [
    "#### What was the average capital gained and lost in our dataset?\n",
    "Let's use the `.mean()` method on our DataFrame to aggregate these totals at a high level.\n",
    "On average, not many people buy or sell assets."
   ]
  },
  {
   "cell_type": "code",
   "execution_count": 3,
   "id": "0054bf07-7fc8-420e-b81a-7b8afc84d055",
   "metadata": {
    "tags": []
   },
   "outputs": [
    {
     "data": {
      "text/plain": [
       "capital-gain    1077.648844\n",
       "capital-loss      87.303830\n",
       "dtype: float64"
      ]
     },
     "execution_count": 3,
     "metadata": {},
     "output_type": "execute_result"
    }
   ],
   "source": [
    "df_census[[\"capital-gain\", \"capital-loss\"]].mean()"
   ]
  },
  {
   "cell_type": "markdown",
   "id": "0d30dfb5-3ab8-447c-a9b2-d222d17c11d3",
   "metadata": {},
   "source": [
    "## Using Mean and Median on a Group"
   ]
  },
  {
   "cell_type": "markdown",
   "id": "10161b64-9f2a-441f-aa08-aef44eb6ed10",
   "metadata": {},
   "source": [
    "#### What are the different workclass types"
   ]
  },
  {
   "cell_type": "code",
   "execution_count": 6,
   "id": "279d488d-05ae-49ae-aa9a-1829cdd8759c",
   "metadata": {
    "tags": []
   },
   "outputs": [
    {
     "data": {
      "text/plain": [
       " Private             22696\n",
       " Self-emp-not-inc     2541\n",
       " Local-gov            2093\n",
       " State-gov            1298\n",
       " Self-emp-inc         1116\n",
       " Federal-gov           960\n",
       " Without-pay            14\n",
       " Never-worked            7\n",
       "Name: workclass, dtype: int64"
      ]
     },
     "execution_count": 6,
     "metadata": {},
     "output_type": "execute_result"
    }
   ],
   "source": [
    "df_census[\"workclass\"].value_counts()"
   ]
  },
  {
   "cell_type": "markdown",
   "id": "07b34358-c59b-4bb9-8483-beff44717a03",
   "metadata": {},
   "source": [
    "#### If we group by 'workclass', what are some interesting questions and answers?\n",
    "We'll use `.mean()` and `.median()` to see how the each metric tells a different story for each 'workclass'.\n",
    "\n",
    "Self-emp-inc on average make more money through selling assets (capital-gain), but what is going when we use `.median()`?\n",
    "\n",
    "`capital-gain` and `capital-loss` are both zero for each group. What does this tell us about our data?"
   ]
  },
  {
   "cell_type": "code",
   "execution_count": 13,
   "id": "1dc27e1e-1ec7-491a-a35a-9a81f9d9b324",
   "metadata": {
    "tags": []
   },
   "outputs": [
    {
     "data": {
      "text/html": [
       "<div>\n",
       "<style scoped>\n",
       "    .dataframe tbody tr th:only-of-type {\n",
       "        vertical-align: middle;\n",
       "    }\n",
       "\n",
       "    .dataframe tbody tr th {\n",
       "        vertical-align: top;\n",
       "    }\n",
       "\n",
       "    .dataframe thead th {\n",
       "        text-align: right;\n",
       "    }\n",
       "</style>\n",
       "<table border=\"1\" class=\"dataframe\">\n",
       "  <thead>\n",
       "    <tr style=\"text-align: right;\">\n",
       "      <th></th>\n",
       "      <th>age</th>\n",
       "      <th>fnlwgt</th>\n",
       "      <th>education-num</th>\n",
       "      <th>capital-gain</th>\n",
       "      <th>capital-loss</th>\n",
       "      <th>hours-per-week</th>\n",
       "    </tr>\n",
       "    <tr>\n",
       "      <th>workclass</th>\n",
       "      <th></th>\n",
       "      <th></th>\n",
       "      <th></th>\n",
       "      <th></th>\n",
       "      <th></th>\n",
       "      <th></th>\n",
       "    </tr>\n",
       "  </thead>\n",
       "  <tbody>\n",
       "    <tr>\n",
       "      <th>Federal-gov</th>\n",
       "      <td>42.590625</td>\n",
       "      <td>185221.243750</td>\n",
       "      <td>10.973958</td>\n",
       "      <td>833.232292</td>\n",
       "      <td>112.268750</td>\n",
       "      <td>41.379167</td>\n",
       "    </tr>\n",
       "    <tr>\n",
       "      <th>Local-gov</th>\n",
       "      <td>41.751075</td>\n",
       "      <td>188639.712852</td>\n",
       "      <td>11.042045</td>\n",
       "      <td>880.202580</td>\n",
       "      <td>109.854276</td>\n",
       "      <td>40.982800</td>\n",
       "    </tr>\n",
       "    <tr>\n",
       "      <th>Never-worked</th>\n",
       "      <td>20.571429</td>\n",
       "      <td>225989.571429</td>\n",
       "      <td>7.428571</td>\n",
       "      <td>0.000000</td>\n",
       "      <td>0.000000</td>\n",
       "      <td>28.428571</td>\n",
       "    </tr>\n",
       "    <tr>\n",
       "      <th>Private</th>\n",
       "      <td>36.797585</td>\n",
       "      <td>192764.114734</td>\n",
       "      <td>9.879714</td>\n",
       "      <td>889.217792</td>\n",
       "      <td>80.008724</td>\n",
       "      <td>40.267096</td>\n",
       "    </tr>\n",
       "    <tr>\n",
       "      <th>Self-emp-inc</th>\n",
       "      <td>46.017025</td>\n",
       "      <td>175981.344086</td>\n",
       "      <td>11.137097</td>\n",
       "      <td>4875.693548</td>\n",
       "      <td>155.138889</td>\n",
       "      <td>48.818100</td>\n",
       "    </tr>\n",
       "    <tr>\n",
       "      <th>Self-emp-not-inc</th>\n",
       "      <td>44.969697</td>\n",
       "      <td>175608.641480</td>\n",
       "      <td>10.226289</td>\n",
       "      <td>1886.061787</td>\n",
       "      <td>116.631641</td>\n",
       "      <td>44.421881</td>\n",
       "    </tr>\n",
       "    <tr>\n",
       "      <th>State-gov</th>\n",
       "      <td>39.436055</td>\n",
       "      <td>184136.613251</td>\n",
       "      <td>11.375963</td>\n",
       "      <td>701.699538</td>\n",
       "      <td>83.256549</td>\n",
       "      <td>39.031587</td>\n",
       "    </tr>\n",
       "    <tr>\n",
       "      <th>Without-pay</th>\n",
       "      <td>47.785714</td>\n",
       "      <td>174267.500000</td>\n",
       "      <td>9.071429</td>\n",
       "      <td>487.857143</td>\n",
       "      <td>0.000000</td>\n",
       "      <td>32.714286</td>\n",
       "    </tr>\n",
       "  </tbody>\n",
       "</table>\n",
       "</div>"
      ],
      "text/plain": [
       "                         age         fnlwgt  education-num  capital-gain  \\\n",
       "workclass                                                                  \n",
       " Federal-gov       42.590625  185221.243750      10.973958    833.232292   \n",
       " Local-gov         41.751075  188639.712852      11.042045    880.202580   \n",
       " Never-worked      20.571429  225989.571429       7.428571      0.000000   \n",
       " Private           36.797585  192764.114734       9.879714    889.217792   \n",
       " Self-emp-inc      46.017025  175981.344086      11.137097   4875.693548   \n",
       " Self-emp-not-inc  44.969697  175608.641480      10.226289   1886.061787   \n",
       " State-gov         39.436055  184136.613251      11.375963    701.699538   \n",
       " Without-pay       47.785714  174267.500000       9.071429    487.857143   \n",
       "\n",
       "                   capital-loss  hours-per-week  \n",
       "workclass                                        \n",
       " Federal-gov         112.268750       41.379167  \n",
       " Local-gov           109.854276       40.982800  \n",
       " Never-worked          0.000000       28.428571  \n",
       " Private              80.008724       40.267096  \n",
       " Self-emp-inc        155.138889       48.818100  \n",
       " Self-emp-not-inc    116.631641       44.421881  \n",
       " State-gov            83.256549       39.031587  \n",
       " Without-pay           0.000000       32.714286  "
      ]
     },
     "execution_count": 13,
     "metadata": {},
     "output_type": "execute_result"
    }
   ],
   "source": [
    "df_census.groupby(by=\"workclass\").mean(numeric_only=True)"
   ]
  },
  {
   "cell_type": "code",
   "execution_count": 14,
   "id": "d3bd1691-d3d7-4376-9ee5-d06ab151d8f0",
   "metadata": {
    "tags": []
   },
   "outputs": [
    {
     "data": {
      "text/html": [
       "<div>\n",
       "<style scoped>\n",
       "    .dataframe tbody tr th:only-of-type {\n",
       "        vertical-align: middle;\n",
       "    }\n",
       "\n",
       "    .dataframe tbody tr th {\n",
       "        vertical-align: top;\n",
       "    }\n",
       "\n",
       "    .dataframe thead th {\n",
       "        text-align: right;\n",
       "    }\n",
       "</style>\n",
       "<table border=\"1\" class=\"dataframe\">\n",
       "  <thead>\n",
       "    <tr style=\"text-align: right;\">\n",
       "      <th></th>\n",
       "      <th>age</th>\n",
       "      <th>fnlwgt</th>\n",
       "      <th>education-num</th>\n",
       "      <th>capital-gain</th>\n",
       "      <th>capital-loss</th>\n",
       "      <th>hours-per-week</th>\n",
       "    </tr>\n",
       "    <tr>\n",
       "      <th>workclass</th>\n",
       "      <th></th>\n",
       "      <th></th>\n",
       "      <th></th>\n",
       "      <th></th>\n",
       "      <th></th>\n",
       "      <th></th>\n",
       "    </tr>\n",
       "  </thead>\n",
       "  <tbody>\n",
       "    <tr>\n",
       "      <th>Federal-gov</th>\n",
       "      <td>43.0</td>\n",
       "      <td>175771.0</td>\n",
       "      <td>10.0</td>\n",
       "      <td>0.0</td>\n",
       "      <td>0.0</td>\n",
       "      <td>40.0</td>\n",
       "    </tr>\n",
       "    <tr>\n",
       "      <th>Local-gov</th>\n",
       "      <td>41.0</td>\n",
       "      <td>179580.0</td>\n",
       "      <td>11.0</td>\n",
       "      <td>0.0</td>\n",
       "      <td>0.0</td>\n",
       "      <td>40.0</td>\n",
       "    </tr>\n",
       "    <tr>\n",
       "      <th>Never-worked</th>\n",
       "      <td>18.0</td>\n",
       "      <td>188535.0</td>\n",
       "      <td>7.0</td>\n",
       "      <td>0.0</td>\n",
       "      <td>0.0</td>\n",
       "      <td>35.0</td>\n",
       "    </tr>\n",
       "    <tr>\n",
       "      <th>Private</th>\n",
       "      <td>35.0</td>\n",
       "      <td>181091.0</td>\n",
       "      <td>10.0</td>\n",
       "      <td>0.0</td>\n",
       "      <td>0.0</td>\n",
       "      <td>40.0</td>\n",
       "    </tr>\n",
       "    <tr>\n",
       "      <th>Self-emp-inc</th>\n",
       "      <td>45.0</td>\n",
       "      <td>165667.0</td>\n",
       "      <td>10.0</td>\n",
       "      <td>0.0</td>\n",
       "      <td>0.0</td>\n",
       "      <td>50.0</td>\n",
       "    </tr>\n",
       "    <tr>\n",
       "      <th>Self-emp-not-inc</th>\n",
       "      <td>44.0</td>\n",
       "      <td>168109.0</td>\n",
       "      <td>10.0</td>\n",
       "      <td>0.0</td>\n",
       "      <td>0.0</td>\n",
       "      <td>40.0</td>\n",
       "    </tr>\n",
       "    <tr>\n",
       "      <th>State-gov</th>\n",
       "      <td>39.0</td>\n",
       "      <td>169402.5</td>\n",
       "      <td>10.0</td>\n",
       "      <td>0.0</td>\n",
       "      <td>0.0</td>\n",
       "      <td>40.0</td>\n",
       "    </tr>\n",
       "    <tr>\n",
       "      <th>Without-pay</th>\n",
       "      <td>57.0</td>\n",
       "      <td>171531.5</td>\n",
       "      <td>9.0</td>\n",
       "      <td>0.0</td>\n",
       "      <td>0.0</td>\n",
       "      <td>27.5</td>\n",
       "    </tr>\n",
       "  </tbody>\n",
       "</table>\n",
       "</div>"
      ],
      "text/plain": [
       "                    age    fnlwgt  education-num  capital-gain  capital-loss  \\\n",
       "workclass                                                                      \n",
       " Federal-gov       43.0  175771.0           10.0           0.0           0.0   \n",
       " Local-gov         41.0  179580.0           11.0           0.0           0.0   \n",
       " Never-worked      18.0  188535.0            7.0           0.0           0.0   \n",
       " Private           35.0  181091.0           10.0           0.0           0.0   \n",
       " Self-emp-inc      45.0  165667.0           10.0           0.0           0.0   \n",
       " Self-emp-not-inc  44.0  168109.0           10.0           0.0           0.0   \n",
       " State-gov         39.0  169402.5           10.0           0.0           0.0   \n",
       " Without-pay       57.0  171531.5            9.0           0.0           0.0   \n",
       "\n",
       "                   hours-per-week  \n",
       "workclass                          \n",
       " Federal-gov                 40.0  \n",
       " Local-gov                   40.0  \n",
       " Never-worked                35.0  \n",
       " Private                     40.0  \n",
       " Self-emp-inc                50.0  \n",
       " Self-emp-not-inc            40.0  \n",
       " State-gov                   40.0  \n",
       " Without-pay                 27.5  "
      ]
     },
     "execution_count": 14,
     "metadata": {},
     "output_type": "execute_result"
    }
   ],
   "source": [
    "df_census.groupby(by=\"workclass\").median(numeric_only=True)"
   ]
  },
  {
   "cell_type": "markdown",
   "id": "d5b60211-02fa-4500-ad43-38edae803f11",
   "metadata": {},
   "source": [
    "#### How about for occupation?"
   ]
  },
  {
   "cell_type": "code",
   "execution_count": 15,
   "id": "c49b3693-20bd-4604-bc36-d33cbc7b60cd",
   "metadata": {
    "tags": []
   },
   "outputs": [
    {
     "data": {
      "text/plain": [
       " Prof-specialty       4140\n",
       " Craft-repair         4099\n",
       " Exec-managerial      4066\n",
       " Adm-clerical         3770\n",
       " Sales                3650\n",
       " Other-service        3295\n",
       " Machine-op-inspct    2002\n",
       " Transport-moving     1597\n",
       " Handlers-cleaners    1370\n",
       " Farming-fishing       994\n",
       " Tech-support          928\n",
       " Protective-serv       649\n",
       " Priv-house-serv       149\n",
       " Armed-Forces            9\n",
       "Name: occupation, dtype: int64"
      ]
     },
     "execution_count": 15,
     "metadata": {},
     "output_type": "execute_result"
    }
   ],
   "source": [
    "df_census[\"occupation\"].value_counts()"
   ]
  },
  {
   "cell_type": "markdown",
   "id": "15992b5a-19a8-4c8f-a99e-6c80bde3c058",
   "metadata": {},
   "source": [
    "Using mean and median by each occupation group, `Exec-managerial` and `Prof-specialty` both made more money through `capital-gain` than others.\n",
    "\n",
    "Median still does not provide much in terms of information in our analysis. This group suffers the same problem as `workclass`. Most of the data in each group actually have 0 in `capital-gain`, which is visualized when we try and calcuate it!"
   ]
  },
  {
   "cell_type": "code",
   "execution_count": null,
   "id": "4f2c98ce-ec57-4e33-8203-50d6a76b2909",
   "metadata": {
    "tags": []
   },
   "outputs": [],
   "source": [
    "df_census.groupby(by=\"occupation\").mean(numeric_only=True)"
   ]
  },
  {
   "cell_type": "code",
   "execution_count": null,
   "id": "b8130463-f720-4031-9152-84139345edc7",
   "metadata": {
    "tags": []
   },
   "outputs": [],
   "source": [
    "df_census.groupby(by=\"occupation\").median(numeric_only=True)"
   ]
  }
 ],
 "metadata": {
  "kernelspec": {
   "display_name": "Python 3 (ipykernel)",
   "language": "python",
   "name": "python3"
  },
  "language_info": {
   "codemirror_mode": {
    "name": "ipython",
    "version": 3
   },
   "file_extension": ".py",
   "mimetype": "text/x-python",
   "name": "python",
   "nbconvert_exporter": "python",
   "pygments_lexer": "ipython3",
   "version": "3.10.13"
  }
 },
 "nbformat": 4,
 "nbformat_minor": 5
}
