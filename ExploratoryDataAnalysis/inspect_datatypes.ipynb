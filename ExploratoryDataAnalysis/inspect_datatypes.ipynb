{
 "cells": [
  {
   "cell_type": "markdown",
   "metadata": {},
   "source": [
    "# Inspecting Data Types\n",
    "Use the space below to explore `data_08_v3.csv` and `data_18_v3.csv` to answer the quiz questions below regarding datatypes. You should've created these data files in the previous section: *Filter, Drop Nulls, Dedupe*.\n",
    "\n",
    "Hint: Use `.unique()` for the columns in question to get a better understanding of what values are present. Read more [here](https://pandas.pydata.org/docs/reference/api/pandas.Series.unique.html#)."
   ]
  },
  {
   "cell_type": "code",
   "execution_count": 2,
   "metadata": {
    "tags": []
   },
   "outputs": [],
   "source": [
    "# import pandas and read the two data csvs\n",
    "import pandas as pd\n",
    "\n",
    "fuel_08_df = pd.read_csv('data_08_v3.csv')\n",
    "fuel_18_df = pd.read_csv('data_18_v3.csv')"
   ]
  },
  {
   "cell_type": "code",
   "execution_count": 4,
   "metadata": {
    "tags": []
   },
   "outputs": [
    {
     "data": {
      "text/plain": [
       "model                    object\n",
       "displ                   float64\n",
       "cyl                      object\n",
       "trans                    object\n",
       "drive                    object\n",
       "fuel                     object\n",
       "veh_class                object\n",
       "air_pollution_score      object\n",
       "city_mpg                 object\n",
       "hwy_mpg                  object\n",
       "cmb_mpg                  object\n",
       "greenhouse_gas_score     object\n",
       "smartway                 object\n",
       "dtype: object"
      ]
     },
     "execution_count": 4,
     "metadata": {},
     "output_type": "execute_result"
    }
   ],
   "source": [
    "# Find the data types in fuel_08_df\n",
    "fuel_08_df.dtypes"
   ]
  },
  {
   "cell_type": "code",
   "execution_count": 5,
   "metadata": {
    "tags": []
   },
   "outputs": [
    {
     "data": {
      "text/plain": [
       "model                    object\n",
       "displ                   float64\n",
       "cyl                     float64\n",
       "trans                    object\n",
       "drive                    object\n",
       "fuel                     object\n",
       "veh_class                object\n",
       "air_pollution_score       int64\n",
       "city_mpg                 object\n",
       "hwy_mpg                  object\n",
       "cmb_mpg                  object\n",
       "greenhouse_gas_score      int64\n",
       "smartway                 object\n",
       "dtype: object"
      ]
     },
     "execution_count": 5,
     "metadata": {},
     "output_type": "execute_result"
    }
   ],
   "source": [
    "# Find the data types in fuel_18_df\n",
    "fuel_18_df.dtypes"
   ]
  },
  {
   "cell_type": "markdown",
   "metadata": {},
   "source": [
    "#### What is different between the two datasets for the `cyl` column? What would you change?"
   ]
  },
  {
   "cell_type": "code",
   "execution_count": 6,
   "metadata": {
    "tags": []
   },
   "outputs": [
    {
     "data": {
      "text/plain": [
       "array(['(6 cyl)', '(4 cyl)', '(12 cyl)', '(8 cyl)', '(10 cyl)',\n",
       "       '(16 cyl)', '(5 cyl)', '(2 cyl)'], dtype=object)"
      ]
     },
     "execution_count": 6,
     "metadata": {},
     "output_type": "execute_result"
    }
   ],
   "source": [
    "# Find the unique values in cyl for fuel_08_df\n",
    "fuel_08_df['cyl'].unique()"
   ]
  },
  {
   "cell_type": "code",
   "execution_count": 9,
   "metadata": {
    "tags": []
   },
   "outputs": [
    {
     "data": {
      "text/plain": [
       "array([ 6.,  4.,  5., 12., 16.,  8.,  3.])"
      ]
     },
     "execution_count": 9,
     "metadata": {},
     "output_type": "execute_result"
    }
   ],
   "source": [
    "# Find the unique values in cyl for fuel_18_df\n",
    "fuel_18_df['cyl'].unique()"
   ]
  },
  {
   "cell_type": "markdown",
   "metadata": {},
   "source": [
    "Use the information from these cells to answer the first quiz question."
   ]
  },
  {
   "cell_type": "markdown",
   "metadata": {},
   "source": [
    "#### What is different between the two datasets for the `air_pollution_score` column? What would you change?"
   ]
  },
  {
   "cell_type": "code",
   "execution_count": 10,
   "metadata": {
    "tags": []
   },
   "outputs": [
    {
     "data": {
      "text/plain": [
       "array(['7', '6', '9.5', '9', '6/4'], dtype=object)"
      ]
     },
     "execution_count": 10,
     "metadata": {},
     "output_type": "execute_result"
    }
   ],
   "source": [
    "# Find the unique values in air_pollution_score for fuel_08_df\n",
    "fuel_08_df['air_pollution_score'].unique()"
   ]
  },
  {
   "cell_type": "code",
   "execution_count": 13,
   "metadata": {
    "tags": []
   },
   "outputs": [
    {
     "data": {
      "text/plain": [
       "array([3, 1, 7, 5, 6])"
      ]
     },
     "execution_count": 13,
     "metadata": {},
     "output_type": "execute_result"
    }
   ],
   "source": [
    "# Find the unique values in air_pollution_score for fuel_18_df\n",
    "fuel_18_df['air_pollution_score'].unique()"
   ]
  },
  {
   "cell_type": "markdown",
   "metadata": {},
   "source": [
    "Use the information from these cells to answer the second quiz question."
   ]
  },
  {
   "cell_type": "markdown",
   "metadata": {},
   "source": [
    "#### Look at the data types for all of the `*_mpg` columns for both datasets. What type are they? What would you change?"
   ]
  },
  {
   "cell_type": "code",
   "execution_count": 21,
   "metadata": {
    "tags": []
   },
   "outputs": [
    {
     "name": "stdout",
     "output_type": "stream",
     "text": [
      "model                    object\n",
      "displ                   float64\n",
      "cyl                      object\n",
      "trans                    object\n",
      "drive                    object\n",
      "fuel                     object\n",
      "veh_class                object\n",
      "air_pollution_score      object\n",
      "city_mpg                 object\n",
      "hwy_mpg                  object\n",
      "cmb_mpg                  object\n",
      "greenhouse_gas_score     object\n",
      "smartway                 object\n",
      "dtype: object\n",
      "['15' '17' '16' '18' '19' '20' '10' '11' '12' '13' '21' '22' '14' '23' '9'\n",
      " '8' '24' '34' '29' '25' '26' '40' '27' '28' '13/18' '35' '33' '48']\n",
      "['20' '22' '24' '26' '27' '28' '16' '18' '17' '19' '29' '25' '30' '23'\n",
      " '21' '31' '15' '14' '33' '32' '35' '36' '34' '45' '13' '19/25' '37']\n",
      "['17' '19' '21' '20' '22' '23' '12' '13' '15' '24' '25' '18' '16' '14'\n",
      " '26' '11' '10' '27' '32' '28' '29' '42' '30' '31' '15/21' '34' '46']\n"
     ]
    }
   ],
   "source": [
    "# Find the unique values in city_mpg for fuel_08_df to see an example of their data type\n",
    "\n",
    "print(fuel_08_df.dtypes)\n",
    "print(fuel_08_df['city_mpg'].unique())\n",
    "print(fuel_08_df['hwy_mpg'].unique())\n",
    "print(fuel_08_df['cmb_mpg'].unique())"
   ]
  },
  {
   "cell_type": "code",
   "execution_count": 22,
   "metadata": {
    "tags": []
   },
   "outputs": [
    {
     "name": "stdout",
     "output_type": "stream",
     "text": [
      "model                    object\n",
      "displ                   float64\n",
      "cyl                     float64\n",
      "trans                    object\n",
      "drive                    object\n",
      "fuel                     object\n",
      "veh_class                object\n",
      "air_pollution_score       int64\n",
      "city_mpg                 object\n",
      "hwy_mpg                  object\n",
      "cmb_mpg                  object\n",
      "greenhouse_gas_score      int64\n",
      "smartway                 object\n",
      "dtype: object\n",
      "['20' '19' '23' '21' '24' '17' '26' '22' '25' '27' '12' '9' '28/66'\n",
      " '27/70' '27/66' '16' '25/62' '18' '14' '15' '13' '29' '31' '30' '28'\n",
      " '14/18' '49' '12/18' '12/17' '12/16' '11/16' '43/113' '14/19' '13/18'\n",
      " '43/102' '43' '33' '32' '15/21' '14/21' '20/59' '10' '17/24' '17/23'\n",
      " '28/63' '37' '35' '40' '51' '44' '48' '34' '9/13' '26/70' '26/60' '26/63']\n",
      "['28' '27' '33' '32' '30' '29' '34' '24' '31' '35' '37' '25' '19' '14'\n",
      " '34/78' '31/75' '31/68' '29/68' '26' '22' '20' '23' '21' '15' '18' '40'\n",
      " '47' '52' '38' '45' '48' '39' '20/28' '36' '43' '16/24' '15/22' '17/23'\n",
      " '16/22' '42/99' '22/30' '20/27' '16' '17' '41/91' '41' '42' '21/28'\n",
      " '21/61' '24/32' '23/31' '17/22' '27/66' '53' '13/17' '12/17' '33/72'\n",
      " '28/58' '30/61']\n",
      "['23' '22' '27' '24' '28' '20' '29' '25' '31' '26' '21' '15' '11' '30/71'\n",
      " '29/72' '28/67' '19' '27/64' '16' '17' '30' '18' '32' '33' '37' '35'\n",
      " '16/22' '46' '14/20' '13/19' '14/19' '12/18' '13/18' '42/106' '17/23'\n",
      " '16/21' '13' '42/97' '42' '34' '36' '18/25' '20/60' '12' '20/27' '19/26'\n",
      " '27/65' '39' '14' '40' '52' '10/14' '10/15' '29/71' '26/59' '27/62']\n"
     ]
    }
   ],
   "source": [
    "# Find the unique values in city_mpg for fuel_18_df to see an example of their data type\n",
    "print(fuel_18_df.dtypes)\n",
    "print(fuel_18_df['city_mpg'].unique())\n",
    "print(fuel_18_df['hwy_mpg'].unique())\n",
    "print(fuel_18_df['cmb_mpg'].unique())"
   ]
  },
  {
   "cell_type": "markdown",
   "metadata": {},
   "source": [
    "Use the information from these cells to answer the third quiz question."
   ]
  },
  {
   "cell_type": "markdown",
   "metadata": {},
   "source": [
    "#### What is different between the two datasets for the `greenhouse_gas_score` column? What would you change?\n",
    "\n",
    "Note: according to the [EPA website](https://www.epa.gov/greenvehicles/greenhouse-gas-rating), greenhouse gas ratings should be integers."
   ]
  },
  {
   "cell_type": "code",
   "execution_count": 23,
   "metadata": {
    "tags": []
   },
   "outputs": [
    {
     "data": {
      "text/plain": [
       "array(['4', '5', '6', '7', '0', '1', '3', '2', '8', '9', '10', '7/6'],\n",
       "      dtype=object)"
      ]
     },
     "execution_count": 23,
     "metadata": {},
     "output_type": "execute_result"
    }
   ],
   "source": [
    "# Find the unique values in greenhouse_gas_score for fuel_08_df\n",
    "fuel_08_df['greenhouse_gas_score'].unique()"
   ]
  },
  {
   "cell_type": "code",
   "execution_count": 25,
   "metadata": {
    "tags": []
   },
   "outputs": [
    {
     "data": {
      "text/plain": [
       "dtype('int64')"
      ]
     },
     "execution_count": 25,
     "metadata": {},
     "output_type": "execute_result"
    }
   ],
   "source": [
    "# Find the unique values in greenhouse_gas_score for fuel_18_df\n",
    "fuel_18_df['greenhouse_gas_score'].unique().dtype"
   ]
  },
  {
   "cell_type": "markdown",
   "metadata": {},
   "source": [
    "Use the information from these cells to answer the fourth quiz question."
   ]
  },
  {
   "cell_type": "code",
   "execution_count": null,
   "metadata": {},
   "outputs": [],
   "source": []
  }
 ],
 "metadata": {
  "kernelspec": {
   "display_name": "Python 3 (ipykernel)",
   "language": "python",
   "name": "python3"
  },
  "language_info": {
   "codemirror_mode": {
    "name": "ipython",
    "version": 3
   },
   "file_extension": ".py",
   "mimetype": "text/x-python",
   "name": "python",
   "nbconvert_exporter": "python",
   "pygments_lexer": "ipython3",
   "version": "3.10.13"
  }
 },
 "nbformat": 4,
 "nbformat_minor": 4
}
